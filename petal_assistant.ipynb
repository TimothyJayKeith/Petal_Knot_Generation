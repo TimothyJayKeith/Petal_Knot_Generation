{
 "cells": [
  {
   "cell_type": "code",
   "execution_count": null,
   "metadata": {
    "id": "vTNstapzPl6x"
   },
   "outputs": [],
   "source": [
    "from ast import literal_eval\n",
    "from numpy import array"
   ]
  },
  {
   "cell_type": "code",
   "execution_count": 1,
   "metadata": {
    "id": "_bZxFc22Pqgx"
   },
   "outputs": [],
   "source": [
    "def process_permutation(permutation, row_length=0, reg_factor=1, renormalize=False):\n",
    "    processed_permutation = []\n",
    "    row_length = max(len(permutation), row_length)\n",
    "    reg_factor = max(max(permutation), reg_factor, -min(permutation))\n",
    "    \n",
    "    for i in range(row_length):\n",
    "        if renormalize:\n",
    "            if i >= len(permutation):\n",
    "                processed_permutation += [0,0]\n",
    "                continue\n",
    "            if permutation[i] >= 0:\n",
    "                processed_permutation += [permutation[i]/reg_factor, 0]\n",
    "            if permutation[i] < 0:\n",
    "                processed_permutation += [0, -permutation[i]/reg_factor]\n",
    "        else:\n",
    "            processed_permutation = permutation + [0]*(row_length-len(permutation))\n",
    "    return array(processed_permutation)"
   ]
  },
  {
   "cell_type": "code",
   "execution_count": 2,
   "metadata": {
    "id": "xBIJJWWNPs35"
   },
   "outputs": [],
   "source": [
    "def process_permutation_dataset(dataset, row_length=0, reg_factor=1, renormalize=False):\n",
    "    parsed_data = []\n",
    "    row_length = max([max(len(literal_eval(permutation)) for permutation in dataset), row_length])\n",
    "    if renormalize:\n",
    "        reg_factor = max([max([max([max(literal_eval(permutation)), -min(literal_eval(permutation))]) for permutation in dataset]), reg_factor])\n",
    "    for permutation in dataset:\n",
    "        parsed_data.append(process_permutation(literal_eval(permutation), row_length=row_length, reg_factor=reg_factor,\n",
    "                                              renormalize=renormalize))\n",
    "    return array(parsed_data)"
   ]
  },
  {
   "cell_type": "code",
   "execution_count": null,
   "metadata": {
    "id": "AP3prtoXPvWT"
   },
   "outputs": [],
   "source": [
    "def unprocess_permutation(processed_permutation, cutoff=-1, reg_factor=1):\n",
    "    unprocessed_permutation = []\n",
    "    for i in range(len(processed_permutation)//2 - 1):\n",
    "        if processed_permutation[2*i] >= processed_permutation[2*i + 1]:\n",
    "            unprocessed_permutation.append(processed_permutation[2*i]*reg_factor)\n",
    "        else:\n",
    "            unprocessed_permutation.append(-processed_permutation[2*i + 1]*reg_factor)\n",
    "    return unprocessed_permutation"
   ]
  }
 ],
 "metadata": {
  "colab": {
   "provenance": []
  },
  "kernelspec": {
   "display_name": "Python 3 (ipykernel)",
   "language": "python",
   "name": "python3"
  },
  "language_info": {
   "codemirror_mode": {
    "name": "ipython",
    "version": 3
   },
   "file_extension": ".py",
   "mimetype": "text/x-python",
   "name": "python",
   "nbconvert_exporter": "python",
   "pygments_lexer": "ipython3",
   "version": "3.9.7"
  }
 },
 "nbformat": 4,
 "nbformat_minor": 1
}
